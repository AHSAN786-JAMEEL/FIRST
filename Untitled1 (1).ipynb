{
 "cells": [
  {
   "cell_type": "code",
   "execution_count": 1,
   "id": "1d4480f2",
   "metadata": {},
   "outputs": [
    {
     "name": "stdout",
     "output_type": "stream",
     "text": [
      "this is my first class\n"
     ]
    }
   ],
   "source": [
    "print(\"this is my first class\")\n"
   ]
  },
  {
   "cell_type": "markdown",
   "id": "52e63b64",
   "metadata": {},
   "source": []
  },
  {
   "cell_type": "markdown",
   "id": "2c13f712",
   "metadata": {},
   "source": []
  },
  {
   "cell_type": "code",
   "execution_count": null,
   "id": "338609c7",
   "metadata": {},
   "outputs": [],
   "source": [
    "my name is ahsan"
   ]
  },
  {
   "cell_type": "code",
   "execution_count": null,
   "id": "94abaedd",
   "metadata": {},
   "outputs": [],
   "source": []
  }
 ],
 "metadata": {
  "kernelspec": {
   "display_name": "Python 3",
   "language": "python",
   "name": "python3"
  },
  "language_info": {
   "codemirror_mode": {
    "name": "ipython",
    "version": 3
   },
   "file_extension": ".py",
   "mimetype": "text/x-python",
   "name": "python",
   "nbconvert_exporter": "python",
   "pygments_lexer": "ipython3",
   "version": "3.8.8"
  }
 },
 "nbformat": 4,
 "nbformat_minor": 5
}
